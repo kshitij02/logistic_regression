{
 "cells": [
  {
   "cell_type": "markdown",
   "metadata": {},
   "source": [
    "# Part 1"
   ]
  },
  {
   "cell_type": "markdown",
   "metadata": {},
   "source": [
    "## One to Many"
   ]
  },
  {
   "cell_type": "code",
   "execution_count": 1,
   "metadata": {},
   "outputs": [],
   "source": [
    "import pandas as pd\n",
    "import numpy as np\n",
    "from sklearn.metrics import accuracy_score"
   ]
  },
  {
   "cell_type": "code",
   "execution_count": 2,
   "metadata": {
    "scrolled": true
   },
   "outputs": [],
   "source": [
    "data=pd.read_csv('wine-quality/data.csv',sep=';')"
   ]
  },
  {
   "cell_type": "code",
   "execution_count": 61,
   "metadata": {},
   "outputs": [],
   "source": [
    "def normalize(data,list_attribute,thershold):\n",
    "    norm = (data - data.mean())/data.std()\n",
    "    norm['quality']=data['quality']\n",
    "    return norm"
   ]
  },
  {
   "cell_type": "code",
   "execution_count": 62,
   "metadata": {},
   "outputs": [],
   "source": [
    "list_attribute= data.columns[:-1]\n",
    "# print list_attribute\n",
    "data=normalize(data,list_attribute,0.5)\n",
    "li=[1]*len(data.index)\n",
    "data.insert(0, \"Extra\", li) \n",
    "train_data=data.sample(frac=0.8)\n",
    "validation_data=data.drop(train_data.index)"
   ]
  },
  {
   "cell_type": "code",
   "execution_count": 63,
   "metadata": {},
   "outputs": [],
   "source": [
    "def sigmod_function(a):\n",
    "    return 1/(1+np.exp(-a))"
   ]
  },
  {
   "cell_type": "code",
   "execution_count": 64,
   "metadata": {},
   "outputs": [],
   "source": [
    "def gradiant_method_mean_sq_error(X,Y,beta,learning_rate,m):\n",
    "#     print X.shape\n",
    "    a=np.dot(X,beta)\n",
    "#     print Y.shape\n",
    "    a=sigmod_function(a)\n",
    "    z=np.subtract(a,Y)\n",
    "#     print z.shape\n",
    "    a=(learning_rate/m)*(np.dot(z.T,X))\n",
    "#     print a.shape\n",
    "    beta=np.subtract(beta,a.T)\n",
    "#     print beta.shape\n",
    "    return beta\n",
    "def calc_predication(beta,test_data):\n",
    "    predication=sigmod_function(np.dot(test_data.iloc[:,:-1].values,beta))\n",
    "    return predication\n",
    "def value_transformation(predication,thershold):\n",
    "    li=[]\n",
    "    for i in predication:\n",
    "        if i[0]>=thershold:\n",
    "            li.append(1)\n",
    "        else:\n",
    "            li.append(0)\n",
    "    return li\n"
   ]
  },
  {
   "cell_type": "code",
   "execution_count": 65,
   "metadata": {},
   "outputs": [],
   "source": [
    "def output_transfrom(Y,value):\n",
    "    li=[]\n",
    "    for i in Y:\n",
    "        if i == value:\n",
    "            li.append(1)\n",
    "        else :\n",
    "            li.append(0)\n",
    "    return li"
   ]
  },
  {
   "cell_type": "code",
   "execution_count": 66,
   "metadata": {},
   "outputs": [],
   "source": [
    "n=len(train_data.columns)-1"
   ]
  },
  {
   "cell_type": "code",
   "execution_count": 67,
   "metadata": {},
   "outputs": [
    {
     "name": "stdout",
     "output_type": "stream",
     "text": [
      "Accurary : 0.5374149659863946\n"
     ]
    }
   ],
   "source": [
    "dict_beta={}\n",
    "predication={}\n",
    "output_label='quality'\n",
    "# print beta.shape\n",
    "for i in range(0,11):\n",
    "    dict_beta[i]=np.array([0]*n)\n",
    "#     X=train_data.iloc[:,:-1].values\n",
    "#     Y=num.array(train_data['Chance of Admit '].tolist())\n",
    "    dict_beta[i]=dict_beta[i].reshape(n,1)\n",
    "    X=train_data.iloc[:,:-1].values\n",
    "    Y=np.array(train_data[output_label].tolist())\n",
    "    Y=np.array(output_transfrom(Y,i))\n",
    "    m=len(train_data.index)\n",
    "    Y=Y.reshape(m,1)\n",
    "#     print Y\n",
    "    for _ in range(10000):\n",
    "        dict_beta[i]=gradiant_method_mean_sq_error(X,Y,dict_beta[i],0.1,m)\n",
    "# print dict_beta\n",
    "    predication[i]=calc_predication(dict_beta[i],validation_data)\n",
    "    predication[i]=predication[i].T[0]\n",
    "final_predication=[]\n",
    "for i in range(len(validation_data.index)):\n",
    "    max_v=0.0\n",
    "    pos=0\n",
    "    for j in range(0,11):\n",
    "        if predication[j][i]>max_v:\n",
    "            max_v=predication[j][i]\n",
    "            pos=j\n",
    "    final_predication.append(pos)\n",
    "print \"Accurary : \"+str(accuracy_score(validation_data[output_label].tolist(),final_predication))"
   ]
  },
  {
   "cell_type": "markdown",
   "metadata": {},
   "source": [
    "# Part 2"
   ]
  },
  {
   "cell_type": "markdown",
   "metadata": {},
   "source": [
    "## One to One"
   ]
  },
  {
   "cell_type": "code",
   "execution_count": 68,
   "metadata": {},
   "outputs": [],
   "source": [
    "def logistic_ovo(X, Y, beta):\n",
    "    Y.shape = (len(Y), 1)\n",
    "#     print len(beta)\n",
    "    beta.shape = (num_of_classes+1, 1)\n",
    "    num_of_iters = 1000\n",
    "    alpha = 0.001\n",
    "    for _ in range(num_of_iters):\n",
    "        z = np.dot(X , beta)\n",
    "        hypo = sigmod_function(z)\n",
    "        loss = np.subtract(hypo, Y)\n",
    "        gradient = (alpha/len(Y)) * np.dot(X.T , loss)\n",
    "        beta -= gradient\n",
    "    beta.shape = (num_of_classes+1, )\n",
    "    return beta"
   ]
  },
  {
   "cell_type": "code",
   "execution_count": 71,
   "metadata": {},
   "outputs": [],
   "source": [
    "def predict_ovo(test_data):\n",
    "    pred = []\n",
    "    for index, row in test_data.iterrows():\n",
    "        row_wise_pred = [0]* num_of_classes\n",
    "        row = row.values\n",
    "        for c in range(len(classifiers)):\n",
    "            classifiers[c].shape = (num_of_classes+1, 1)\n",
    "            row.shape = (num_of_classes+1, 1)\n",
    "#             print(row.shape, classifier.T.shape)\n",
    "            x=sigmod_function(np.dot(row.T , classifiers[c]))\n",
    "            if x < 0.5:\n",
    "                row_wise_pred[pair_list[c][0]] += 1\n",
    "            else:\n",
    "                row_wise_pred[pair_list[c][1]] += 1\n",
    "#         print row_wise_pred\n",
    "        pred.append(np.argmax(row_wise_pred))\n",
    "    return pred"
   ]
  },
  {
   "cell_type": "code",
   "execution_count": 72,
   "metadata": {},
   "outputs": [
    {
     "name": "stdout",
     "output_type": "stream",
     "text": [
      "Accuracy : 0.2471655328798186\n"
     ]
    }
   ],
   "source": [
    "data = pd.read_csv('wine-quality/data.csv',sep=';')\n",
    "list_attribute=data.columns[:-1]\n",
    "data=normalize(data,list_attribute,0.5)\n",
    "data_train = data.sample(frac = 0.8, random_state = 200)\n",
    "data_validation = data.drop(data_train.index)\n",
    "num_of_classes = 11\n",
    "x = data_train.iloc[:, :-1].values\n",
    "ones = np.ones(len(data_train))\n",
    "X = np.concatenate((ones[:, np.newaxis], x), axis = 1)\n",
    "unique_classes = data_train['quality'].unique()\n",
    "label_train=data_train['quality']\n",
    "label_validation=data_validation['quality']\n",
    "pair_list = []\n",
    "for i in range(len(unique_classes)):\n",
    "    for j in range(i+1, len(unique_classes)):\n",
    "        pair_list.append([unique_classes[i], unique_classes[j]])        \n",
    "num_of_classifiers = len(pair_list)\n",
    "classifiers = np.zeros(shape = (num_of_classifiers, len(data.keys())))\n",
    "for classifier in range(num_of_classifiers):\n",
    "    xtemp1 = X[label_train == pair_list[classifier][0]]\n",
    "    xtemp2 = X[label_train == pair_list[classifier][1]]\n",
    "    ytemp1 = label_train[label_train == pair_list[classifier][0]]\n",
    "    ytemp2 = label_train[label_train == pair_list[classifier][1]]\n",
    "    temp_X = np.concatenate((xtemp1, xtemp2))\n",
    "    temp_Y = np.concatenate((ytemp1, ytemp2))\n",
    "    classifiers[classifier, :] = logistic_ovo(temp_X, temp_Y, np.array(classifiers[classifier, :]))\n",
    "predicted_ovo = predict_ovo(wine_validation)\n",
    "print \"Accuracy : \"+str(accuracy_score(label_validation.tolist(),predicted_ovo))"
   ]
  },
  {
   "cell_type": "code",
   "execution_count": null,
   "metadata": {},
   "outputs": [],
   "source": []
  }
 ],
 "metadata": {
  "kernelspec": {
   "display_name": "Python 2",
   "language": "python",
   "name": "python2"
  },
  "language_info": {
   "codemirror_mode": {
    "name": "ipython",
    "version": 2
   },
   "file_extension": ".py",
   "mimetype": "text/x-python",
   "name": "python",
   "nbconvert_exporter": "python",
   "pygments_lexer": "ipython2",
   "version": "2.7.15rc1"
  }
 },
 "nbformat": 4,
 "nbformat_minor": 2
}
