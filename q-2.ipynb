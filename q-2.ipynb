{
 "cells": [
  {
   "cell_type": "markdown",
   "metadata": {},
   "source": [
    "# Part 1"
   ]
  },
  {
   "cell_type": "code",
   "execution_count": 1,
   "metadata": {},
   "outputs": [],
   "source": [
    "import pandas as pd\n",
    "import numpy as num\n"
   ]
  },
  {
   "cell_type": "code",
   "execution_count": 2,
   "metadata": {},
   "outputs": [],
   "source": [
    "def normalize(data,list_attribute,thershold):\n",
    "    norm = (data - data.mean())/data.std()\n",
    "#     norm['Chance of Admit '] = data['Chance of Admit ']\n",
    "    li=[]\n",
    "    for i in data['Chance of Admit ']:\n",
    "#         print i\n",
    "        if i >= thershold :\n",
    "#             print 1\n",
    "            li.append(1)\n",
    "        else:\n",
    "#             print 0\n",
    "            li.append(0)\n",
    "    norm['Chance of Admit ']=li\n",
    "    return norm"
   ]
  },
  {
   "cell_type": "code",
   "execution_count": 3,
   "metadata": {},
   "outputs": [],
   "source": [
    "data= pd.read_csv('AdmissionDataset/data.csv')\n",
    "data=data.drop(columns='Serial No.')\n",
    "list_attribute= data.columns[:-1]\n",
    "# print list_attribute\n",
    "data=normalize(data,list_attribute,0.5)\n",
    "li=[1]*len(data.index)\n",
    "data.insert(0, \"Extra\", li) \n",
    "train_data=data.sample(frac=0.8)\n",
    "validation_data=data.drop(train_data.index)\n"
   ]
  },
  {
   "cell_type": "code",
   "execution_count": 4,
   "metadata": {},
   "outputs": [],
   "source": [
    "# train_data"
   ]
  },
  {
   "cell_type": "code",
   "execution_count": 5,
   "metadata": {},
   "outputs": [],
   "source": [
    "# validation_data"
   ]
  },
  {
   "cell_type": "code",
   "execution_count": 6,
   "metadata": {},
   "outputs": [],
   "source": [
    "def sigmod_function(a):\n",
    "    return 1/(1+num.exp(-a))"
   ]
  },
  {
   "cell_type": "code",
   "execution_count": 7,
   "metadata": {},
   "outputs": [],
   "source": [
    "def gradiant_method_mean_sq_error(X,Y,beta,learning_rate,m):\n",
    "#     print X.shape\n",
    "    a=num.dot(X,beta)\n",
    "#     print Y.shape\n",
    "    a=sigmod_function(a)\n",
    "    z=num.subtract(a,Y)\n",
    "#     print z.shape\n",
    "    a=(learning_rate/m)*(num.dot(z.T,X))\n",
    "#     print a.shape\n",
    "    beta=num.subtract(beta,a.T)\n",
    "#     print beta.shape\n",
    "    return beta"
   ]
  },
  {
   "cell_type": "code",
   "execution_count": 8,
   "metadata": {},
   "outputs": [],
   "source": [
    "def calc_predication(beta,test_data):\n",
    "#     print test_data.iloc[:,:-1].values.shape\n",
    "#     print beta.shape\n",
    "    predication=sigmod_function(num.dot(test_data.iloc[:,:-1].values,beta))\n",
    "    return predication"
   ]
  },
  {
   "cell_type": "code",
   "execution_count": 9,
   "metadata": {},
   "outputs": [],
   "source": [
    "def value_transformation(predication,thershold):\n",
    "    li=[]\n",
    "    for i in predication:\n",
    "        if i[0]>=thershold:\n",
    "            li.append(1)\n",
    "        else:\n",
    "            li.append(0)\n",
    "    return li"
   ]
  },
  {
   "cell_type": "code",
   "execution_count": 10,
   "metadata": {},
   "outputs": [],
   "source": [
    "def calc_preformance(target_value,pridected_value):\n",
    "    t_p=0\n",
    "    f_p=0\n",
    "    t_n=0\n",
    "    f_n=0\n",
    "    for i in range(len(target_value)):\n",
    "        if target_value[i]==0 and target_value[i]==pridected_value[i]:\n",
    "            t_n=t_n+1\n",
    "        elif target_value[i]==1 and target_value[i]==pridected_value[i]:\n",
    "            t_p=t_p+1\n",
    "        elif pridected_value[i]==1 and target_value[i]==0:\n",
    "            f_p=f_p+1\n",
    "        elif pridected_value[i]==0 and target_value[i]==1:\n",
    "            f_n=f_n+1\n",
    "    if t_p!=0:\n",
    "        accuracy=(t_n+t_p)/float(t_n+t_p+f_p+f_n)\n",
    "\n",
    "        precision=(t_p)/float(t_p+f_p)\n",
    "        recall=(t_p)/float(t_p+f_n)\n",
    "        a=1/precision\n",
    "        b=1/recall\n",
    "        f1_score=2/(a+b)\n",
    "    else :\n",
    "        accuracy=0\n",
    "        precision=0\n",
    "        recall=0\n",
    "        f1_score=0\n",
    "#     print \"ture positive\",t_p\n",
    "#     print \"false positive\",f_p\n",
    "#     print \"false negative\",f_n\n",
    "#     print \"ture negative\",t_n\n",
    "    \n",
    "    print \"Accuracy \",accuracy\n",
    "    print \"Precision \",precision\n",
    "    print \"Recall \",recall\n",
    "    print \"F1 Score\",f1_score\n",
    "    return accuracy,precision,recall\n"
   ]
  },
  {
   "cell_type": "code",
   "execution_count": 11,
   "metadata": {},
   "outputs": [
    {
     "name": "stdout",
     "output_type": "stream",
     "text": [
      "[1, 1, 1, 1, 1, 1, 1, 1, 1, 1, 1, 1, 1, 1, 0, 1, 1, 1, 1, 1, 1, 1, 1, 1, 1, 1, 1, 1, 1, 1, 1, 1, 1, 1, 1, 1, 1, 1, 1, 1, 0, 1, 1, 1, 1, 1, 1, 0, 1, 1, 1, 1, 1, 1, 1, 1, 1, 1, 1, 1, 1, 1, 0, 1, 1, 1, 1, 1, 1, 1, 1, 1, 1, 0, 1, 1, 1, 1, 1, 1, 1, 1, 1, 1, 1, 1, 1, 1, 1, 1]\n",
      "Accuracy  0.933333333333\n",
      "Precision  0.929411764706\n",
      "Recall  1.0\n",
      "F1 Score 0.963414634146\n"
     ]
    }
   ],
   "source": [
    "beta=num.array([0]*8)\n",
    "X=train_data.iloc[:,:-1].values\n",
    "Y=num.array(train_data['Chance of Admit '].tolist())\n",
    "beta=beta.reshape(8,1)\n",
    "Y=Y.reshape(360,1)\n",
    "m=len(train_data.index)\n",
    "for i in range(10000):\n",
    "    beta=gradiant_method_mean_sq_error(X,Y,beta,0.1,m)\n",
    "# print beta\n",
    "predication=calc_predication(beta,validation_data)\n",
    "# print predication,beta\n",
    "predication=value_transformation(predication,0.5)\n",
    "print predication\n",
    "# print \"Accuracy :\"+ str(accuracy_score(validation_data['Chance of Admit '].tolist(),predication))\n",
    "# print \"F1_Score :\"+ str(f1_score(validation_data['Chance of Admit '].tolist(),predication))\n",
    "accurary=calc_preformance(validation_data['Chance of Admit '].tolist(),predication)"
   ]
  },
  {
   "cell_type": "markdown",
   "metadata": {},
   "source": [
    "# Part 2"
   ]
  },
  {
   "cell_type": "code",
   "execution_count": 12,
   "metadata": {},
   "outputs": [],
   "source": [
    "def check_value(validation_data ,list_attributes,train_data,k_value,type_cal,output_label):\n",
    "    dict_value={}\n",
    "    list_value=[]\n",
    "    validation_prediction=[]\n",
    "    for validate_index, validate_row in validation_data.iterrows():\n",
    "        dict_value={}\n",
    "        dict_result={}\n",
    "        for train_index, train_row in train_data.iterrows():\n",
    "            if type_cal==0:\n",
    "#                 euclidean\n",
    "                sum_value=0.0\n",
    "                for attr in list_attributes:\n",
    "                    sum_value=sum_value + ((validate_row[attr]-train_row[attr])**2)\n",
    "                sum_value=(sum_value**0.5)\n",
    "            elif type_cal==1:\n",
    "#                 Manhatan\n",
    "                sum_value=0.0\n",
    "                for attr in list_attributes:\n",
    "                    sum_value=sum_value + abs(validate_row[attr]-train_row[attr])\n",
    "                \n",
    "            elif type_cal==2:\n",
    "#                 Minkowski\n",
    "                sum_value=0.0\n",
    "                for attr in list_attributes:\n",
    "                    sum_value=sum_value + (abs(validate_row[attr]-train_row[attr])**1.5)\n",
    "                sum_value=math.pow(sum_value,1/1.5)\n",
    "            elif type_cal==3:\n",
    "#                 cosine \n",
    "                sum_value=0.0\n",
    "                x_y=0.0\n",
    "                x_2=0.0\n",
    "                y_2=0.0\n",
    "                for attr in list_attributes:\n",
    "                    x_y = x_y + (validate_row[attr]*train_row[attr])\n",
    "                    x_2 = x_2 + (train_row[attr]**2)\n",
    "                    y_2 = y_2 + (validate_row[attr]**2)\n",
    "                    \n",
    "                x_2=(x_2**0.5)\n",
    "                y_2=(y_2**0.5)\n",
    "                sum_value=1-(x_y/(x_2*y_2))\n",
    "            dict_value.setdefault(sum_value,[])\n",
    "            dict_value[sum_value].append(train_index)\n",
    "            dict_result.setdefault(sum_value,[])\n",
    "            dict_result[sum_value].append(train_row[output_label])\n",
    "#         print dict_value\n",
    "#         print dict_result\n",
    "        current_k=0\n",
    "        res={}\n",
    "#         print(train_data['class'].unique())\n",
    "        for key in train_data[output_label].unique():\n",
    "            res[key]=0\n",
    "        l=dict_result.keys()\n",
    "        l.sort()\n",
    "        for key in l:\n",
    "            if current_k<k_value:\n",
    "                for i in dict_result[key]:\n",
    "                    if current_k<k_value:\n",
    "                        for j in res.keys():\n",
    "                            if j==i:\n",
    "                                res[j]=res[j]+1\n",
    "                                current_k=current_k+1\n",
    "                    else:\n",
    "                        break\n",
    "            else :\n",
    "                break\n",
    "        max_v=0\n",
    "        predication=0\n",
    "#         print(res.keys())\n",
    "        for key in res.keys():\n",
    "            if res[key]>max_v:\n",
    "                predication=key\n",
    "                max_v=res[key]\n",
    "    \n",
    "        validation_prediction.append(predication)\n",
    "    return validation_prediction        "
   ]
  },
  {
   "cell_type": "code",
   "execution_count": 13,
   "metadata": {},
   "outputs": [
    {
     "name": "stdout",
     "output_type": "stream",
     "text": [
      "k-value : 1\n",
      "Accuracy  0.9\n",
      "Precision  0.926829268293\n",
      "Recall  0.962025316456\n",
      "F1 Score 0.944099378882\n",
      "k-value : 3\n",
      "Accuracy  0.922222222222\n",
      "Precision  0.928571428571\n",
      "Recall  0.987341772152\n",
      "F1 Score 0.957055214724\n",
      "k-value : 5\n",
      "Accuracy  0.911111111111\n",
      "Precision  0.908045977011\n",
      "Recall  1.0\n",
      "F1 Score 0.951807228916\n",
      "k-value : 7\n",
      "Accuracy  0.933333333333\n",
      "Precision  0.929411764706\n",
      "Recall  1.0\n",
      "F1 Score 0.963414634146\n",
      "k-value : 9\n",
      "Accuracy  0.922222222222\n",
      "Precision  0.918604651163\n",
      "Recall  1.0\n",
      "F1 Score 0.957575757576\n",
      "k-value : 11\n",
      "Accuracy  0.911111111111\n",
      "Precision  0.908045977011\n",
      "Recall  1.0\n",
      "F1 Score 0.951807228916\n",
      "k-value : 13\n",
      "Accuracy  0.9\n",
      "Precision  0.897727272727\n",
      "Recall  1.0\n",
      "F1 Score 0.946107784431\n",
      "k-value : 15\n",
      "Accuracy  0.888888888889\n",
      "Precision  0.887640449438\n",
      "Recall  1.0\n",
      "F1 Score 0.940476190476\n",
      "k-value : 17\n",
      "Accuracy  0.877777777778\n",
      "Precision  0.877777777778\n",
      "Recall  1.0\n",
      "F1 Score 0.934911242604\n"
     ]
    }
   ],
   "source": [
    "ac_list_robot=[]\n",
    "max_value_k=int((len(train_data.index)**0.5))\n",
    "output_label='Chance of Admit '\n",
    "actual_value=validation_data['Chance of Admit '].tolist()\n",
    "list_attributes=data.columns[1:-1]\n",
    "dict_ac={0:[],1:[],2:[],3:[]}\n",
    "for i in range(1,max_value_k+1,2):\n",
    "    print \"k-value : \"+str(i)\n",
    "    prediction=check_value(validation_data.iloc[:,1:],list_attributes,train_data.iloc[:,1:],i,0,output_label)\n",
    "    ac=calc_preformance(actual_value,prediction)"
   ]
  },
  {
   "cell_type": "markdown",
   "metadata": {},
   "source": [
    "# Part 3"
   ]
  },
  {
   "cell_type": "code",
   "execution_count": 17,
   "metadata": {},
   "outputs": [
    {
     "name": "stdout",
     "output_type": "stream",
     "text": [
      "Thershold : 0.1\n",
      "Accuracy  1.0\n",
      "Precision  1.0\n",
      "Recall  1.0\n",
      "F1 Score 1.0\n",
      "Thershold : 0.2\n",
      "Accuracy  1.0\n",
      "Precision  1.0\n",
      "Recall  1.0\n",
      "F1 Score 1.0\n",
      "Thershold : 0.3\n",
      "Accuracy  1.0\n",
      "Precision  1.0\n",
      "Recall  1.0\n",
      "F1 Score 1.0\n",
      "Thershold : 0.4\n",
      "Accuracy  1.0\n",
      "Precision  1.0\n",
      "Recall  1.0\n",
      "F1 Score 1.0\n",
      "Thershold : 0.5\n",
      "Accuracy  0.988888888889\n",
      "Precision  0.988505747126\n",
      "Recall  1.0\n",
      "F1 Score 0.994219653179\n",
      "Thershold : 0.6\n",
      "Accuracy  0.866666666667\n",
      "Precision  0.932432432432\n",
      "Recall  0.907894736842\n",
      "F1 Score 0.92\n",
      "Thershold : 0.7\n",
      "Accuracy  0.833333333333\n",
      "Precision  0.933333333333\n",
      "Recall  0.777777777778\n",
      "F1 Score 0.848484848485\n",
      "Thershold : 0.8\n",
      "Accuracy  0.933333333333\n",
      "Precision  0.954545454545\n",
      "Recall  0.807692307692\n",
      "F1 Score 0.875\n",
      "Thershold : 0.9\n",
      "Accuracy  0.933333333333\n",
      "Precision  1.0\n",
      "Recall  0.5\n",
      "F1 Score 0.666666666667\n"
     ]
    }
   ],
   "source": [
    "list_threshold=[]\n",
    "list_precision=[]\n",
    "list_recall=[]\n",
    "end=10\n",
    "for i in range(1,end):\n",
    "    print \"Thershold : \"+str(i/float(end))\n",
    "    data= pd.read_csv('AdmissionDataset/data.csv')\n",
    "    data=data.drop(columns='Serial No.')\n",
    "    list_attribute= data.columns[:-1]\n",
    "    data=normalize(data,list_attribute,i/float(end))\n",
    "    li=[1]*len(data.index)\n",
    "    data.insert(0, \"Extra\", li) \n",
    "    train_data=data.sample(frac=0.8,random_state=200)\n",
    "    validation_data=data.drop(train_data.index)\n",
    "    beta=num.array([0]*8)\n",
    "    X=train_data.iloc[:,:-1].values\n",
    "    Y=num.array(train_data['Chance of Admit '].tolist())\n",
    "    beta=beta.reshape(8,1)\n",
    "    Y=Y.reshape(360,1)\n",
    "    m=len(train_data.index)\n",
    "    for j in range(10000):\n",
    "        beta=gradiant_method_mean_sq_error(X,Y,beta,0.1,m)\n",
    "    predication=calc_predication(beta,validation_data)\n",
    "    predication=value_transformation(predication,i/10.0)\n",
    "    accurary,precision,recall=calc_preformance(validation_data['Chance of Admit '].tolist(),predication)\n",
    "#     print accurary\n",
    "    list_precision.append(precision)\n",
    "    list_recall.append(recall)\n",
    "    list_threshold.append(i/float(end))"
   ]
  },
  {
   "cell_type": "code",
   "execution_count": 18,
   "metadata": {},
   "outputs": [
    {
     "data": {
      "image/png": "[encoded data removed]",
      "text/plain": [
       "<Figure size 432x288 with 1 Axes>"
      ]
     },
     "metadata": {
      "needs_background": "light"
     },
     "output_type": "display_data"
    }
   ],
   "source": [
    "import matplotlib.pyplot as plt\n",
    "plt.plot(list_threshold,list_recall)\n",
    "plt.title('threshold vs recall')\n",
    "plt.xlabel('threshold')\n",
    "plt.ylabel('recall')\n",
    "plt.show()"
   ]
  },
  {
   "cell_type": "code",
   "execution_count": 19,
   "metadata": {},
   "outputs": [
    {
     "data": {
      "image/png": "[encoded data removed]",
      "text/plain": [
       "<Figure size 432x288 with 1 Axes>"
      ]
     },
     "metadata": {
      "needs_background": "light"
     },
     "output_type": "display_data"
    }
   ],
   "source": [
    "import matplotlib.pyplot as plt\n",
    "plt.plot(list_threshold,list_precision)\n",
    "plt.title('threshold vs precision')\n",
    "plt.xlabel('threshold')\n",
    "plt.ylabel('precision')\n",
    "plt.show()"
   ]
  },
  {
   "cell_type": "code",
   "execution_count": null,
   "metadata": {},
   "outputs": [],
   "source": []
  }
 ],
 "metadata": {
  "kernelspec": {
   "display_name": "Python 2",
   "language": "python",
   "name": "python2"
  },
  "language_info": {
   "codemirror_mode": {
    "name": "ipython",
    "version": 2
   },
   "file_extension": ".py",
   "mimetype": "text/x-python",
   "name": "python",
   "nbconvert_exporter": "python",
   "pygments_lexer": "ipython2",
   "version": "2.7.15rc1"
  }
 },
 "nbformat": 4,
 "nbformat_minor": 2
}
